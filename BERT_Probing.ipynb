{
  "nbformat": 4,
  "nbformat_minor": 0,
  "metadata": {
    "colab": {
      "provenance": [],
      "authorship_tag": "ABX9TyNHoMEsXFRZnkfhxOkBCq7Q",
      "include_colab_link": true
    },
    "kernelspec": {
      "name": "python3",
      "display_name": "Python 3"
    },
    "language_info": {
      "name": "python"
    }
  },
  "cells": [
    {
      "cell_type": "markdown",
      "metadata": {
        "id": "view-in-github",
        "colab_type": "text"
      },
      "source": [
        "<a href=\"https://colab.research.google.com/github/aksj98/EmpiricallyEmergent/blob/main/BERT_Probing.ipynb\" target=\"_parent\"><img src=\"https://colab.research.google.com/assets/colab-badge.svg\" alt=\"Open In Colab\"/></a>"
      ]
    },
    {
      "cell_type": "markdown",
      "source": [
        "# Tutorial for probing BERT on the IMDB movie review dataset "
      ],
      "metadata": {
        "id": "R8fhCEo-WbCo"
      }
    },
    {
      "cell_type": "markdown",
      "source": [
        "## Install and imports "
      ],
      "metadata": {
        "id": "Q4V1OWHWfx2D"
      }
    },
    {
      "cell_type": "code",
      "execution_count": null,
      "metadata": {
        "id": "LJb90ulHR2OC"
      },
      "outputs": [],
      "source": [
        "#@title Install required libraries\n",
        "!pip install transformers\n",
        "!pip install torch\n",
        "!pip install datasets"
      ]
    },
    {
      "cell_type": "code",
      "source": [
        "#@title Imports\n",
        "import torch\n",
        "import torch.nn as nn\n",
        "from torch.utils.data import DataLoader\n",
        "from transformers import BertTokenizer, BertModel, AdamW, Trainer, TrainingArguments\n",
        "from datasets import load_dataset"
      ],
      "metadata": {
        "id": "_80bAKmVWBHj"
      },
      "execution_count": 2,
      "outputs": []
    },
    {
      "cell_type": "markdown",
      "source": [
        "## Loading dataset and pre-processing"
      ],
      "metadata": {
        "id": "nfHQuAv6f4vC"
      }
    },
    {
      "cell_type": "code",
      "source": [
        "#@title Load dataset\n",
        "dataset = load_dataset(\"imdb\")\n",
        "train_dataset = dataset['train']\n",
        "test_dataset = dataset['test']"
      ],
      "metadata": {
        "id": "X2P914SvWTGs"
      },
      "execution_count": null,
      "outputs": []
    }
  ]
}